{
 "cells": [
  {
   "cell_type": "code",
   "execution_count": 123,
   "metadata": {
    "collapsed": false
   },
   "outputs": [],
   "source": [
    "\n",
    "import collections\n",
    "import os\n",
    "import json\n",
    "import itertools\n",
    "import nltk\n",
    "from nltk.corpus import stopwords\n",
    "from nltk.tokenize import RegexpTokenizer\n",
    "import numpy as np\n",
    "from matplotlib import pylab as plt"
   ]
  },
  {
   "cell_type": "code",
   "execution_count": 52,
   "metadata": {
    "collapsed": false
   },
   "outputs": [],
   "source": [
    "with open('datastout.txt') as f:\n",
    "    stouts = json.load(f)\n",
    "\n",
    "with open('datawheatale.txt') as f:\n",
    "    wheatale = json.load(f)\n",
    "    #reads in the dictionary that was defined in json"
   ]
  },
  {
   "cell_type": "code",
   "execution_count": 53,
   "metadata": {
    "collapsed": false
   },
   "outputs": [],
   "source": [
    "words1 = []\n",
    "for di in stouts:\n",
    "    for spl in stouts[di].split():\n",
    "        words1.append(spl.lower())\n",
    "        #append all the words in each of the dictionary i\n",
    "        #tems to a word list - and convert only the lower case items\n",
    "        \n",
    "words2 = []\n",
    "for di in wheatale:\n",
    "    for spl in wheatale[di].split():\n",
    "        words2.append(spl.lower())\n",
    "        #append all the words in each of the dictionary i\n",
    "        #tems to a word list - and convert only the lower case items"
   ]
  },
  {
   "cell_type": "code",
   "execution_count": 54,
   "metadata": {
    "collapsed": false
   },
   "outputs": [
    {
     "data": {
      "text/plain": [
       "[u'honey',\n",
       " u'weiss',\n",
       " u'has',\n",
       " u'a',\n",
       " u'taste',\n",
       " u'that&#39;s',\n",
       " u'light,',\n",
       " u'crisp',\n",
       " u'and',\n",
       " u'slightly']"
      ]
     },
     "execution_count": 54,
     "metadata": {},
     "output_type": "execute_result"
    }
   ],
   "source": [
    "words1[:10]\n",
    "words2[:10]"
   ]
  },
  {
   "cell_type": "code",
   "execution_count": 55,
   "metadata": {
    "collapsed": false
   },
   "outputs": [],
   "source": [
    "s = set(stopwords.words('english'))\n"
   ]
  },
  {
   "cell_type": "code",
   "execution_count": 58,
   "metadata": {
    "collapsed": false
   },
   "outputs": [],
   "source": [
    "keywords1 = filter(lambda w: not w in s, words1) #filter out common words\n",
    "#remove all punctation\n",
    "keywords1 = map(lambda w: w.replace('.',''),keywords1)\n",
    "\n",
    "keywords2 = filter(lambda w: not w in s, words2) #filter out common words\n",
    "#remove all punctation\n",
    "keywords2 = map(lambda w: w.replace('.',''),keywords2)\n",
    "\n",
    "\n",
    "wc1 = collections.Counter(keywords1)\n",
    "stout_words = wc1.most_common(n=40)\n",
    "\n",
    "\n",
    "wc2 = collections.Counter(keywords2)\n",
    "wheat_words = wc2.most_common(n=40)\n"
   ]
  },
  {
   "cell_type": "code",
   "execution_count": 61,
   "metadata": {
    "collapsed": false
   },
   "outputs": [
    {
     "name": "stdout",
     "output_type": "stream",
     "text": [
      "[(u'stout', 117), (u'coffee', 71), (u'beer', 54), (u'chocolate', 50), (u'roasted', 48), (u'black', 34), (u'rich', 29), (u'flavor', 27), (u'dark', 27), (u'oatmeal', 25), (u'malt', 21), (u'brew', 21), (u'/>', 20), (u'brewed', 19), (u'malts', 19), (u'barley', 18), (u'creamy', 17), (u'ale', 17), (u'hops', 17), (u'flavors', 16), (u'finish', 15), (u'aged', 14), (u'chocolate,', 14), (u'<br', 13), (u'character', 13), (u'head', 13), (u'made', 13), (u'hop', 12), (u'/><br', 12), (u'notes', 12), (u'espresso', 12), (u'full', 11), (u'beans', 11), (u'rich,', 11), (u'american', 10), (u'barrel', 10), (u'full-bodied', 10), (u'vanilla', 10), (u'roast', 9), (u'balanced', 9)]\n",
      "[(u'wheat', 166), (u'beer', 106), (u'ale', 66), (u'/>', 56), (u'brewed', 38), (u'american', 37), (u'unfiltered', 32), (u'summer', 31), (u'flavor', 31), (u'refreshing', 30), (u'hops', 29), (u'malt', 26), (u'yeast', 24), (u'malted', 24), (u'finish', 22), (u'light', 22), (u'crisp', 19), (u'barley', 18), (u'pale', 18), (u'aroma', 18), (u'wheat,', 18), (u'style', 16), (u'brew', 16), (u'<br', 15), (u'orange', 15), (u'hop', 14), (u'flavors', 14), (u'/><br', 14), (u'lemon', 14), (u'citrus', 14), (u'golden', 13), (u'honey', 12), (u'malts', 12), (u'taste', 12), (u'malt,', 11), (u'hefeweizen', 10), (u'choc', 10), (u'two', 10), (u'hopped', 10), (u'perfect', 10)]\n"
     ]
    }
   ],
   "source": [
    "print stout_words\n",
    "print wheat_words"
   ]
  },
  {
   "cell_type": "code",
   "execution_count": 109,
   "metadata": {
    "collapsed": false
   },
   "outputs": [],
   "source": [
    "word_array_w = []\n",
    "amount_array_w = []\n",
    "\n",
    "for i in wheat_words:\n",
    "    word_array_w.append(i[0])\n",
    "    amount_array_w.append(i[1])\n",
    "    \n",
    "word_ar = np.array(word_array_w)\n",
    "amount_ar = np.array(amount_array_w)\n",
    "lenght = np.arange(0,len(word_ar))"
   ]
  },
  {
   "cell_type": "code",
   "execution_count": 130,
   "metadata": {
    "collapsed": false
   },
   "outputs": [
    {
     "data": {
      "image/png": "[encoded data removed]",
      "text/plain": [
       "<matplotlib.figure.Figure at 0x113dad290>"
      ]
     },
     "metadata": {},
     "output_type": "display_data"
    }
   ],
   "source": [
    "fig, ax = plt.subplots()\n",
    "plt.bar(lenght[:15],amount_ar[:15])\n",
    "plt.xticks(lenght[:15], word_ar[:15], rotation='vertical')\n",
    "#ax.set_xticklabels(word_ar[:10])\n",
    "ax.set_ylabel('Word Count')\n",
    "ax.set_title('Freq. of Words in Wheat Ale Descriptions')\n",
    "plt.subplots_adjust(bottom=0.25)\n",
    "plt.savefig('wheatale.png')"
   ]
  },
  {
   "cell_type": "code",
   "execution_count": 131,
   "metadata": {
    "collapsed": false
   },
   "outputs": [
    {
     "data": {
      "image/png": "[encoded data removed]",
      "text/plain": [
       "<matplotlib.figure.Figure at 0x1147cc090>"
      ]
     },
     "metadata": {},
     "output_type": "display_data"
    }
   ],
   "source": [
    "word_array_s = []\n",
    "amount_array_s = []\n",
    "\n",
    "for i in stout_words:\n",
    "    word_array_s.append(i[0])\n",
    "    amount_array_s.append(i[1])\n",
    "    \n",
    "word_ars = np.array(word_array_s)\n",
    "amount_ars = np.array(amount_array_s)\n",
    "lenghts = np.arange(0,len(word_ars))\n",
    "\n",
    "fig, ax = plt.subplots()\n",
    "bar(lenghts[:15],amount_ars[:15])\n",
    "xticks(lenghts[:15], word_ars[:15], rotation='vertical')\n",
    "#ax.set_xticklabels(word_ar[:10])\n",
    "ax.set_ylabel('Word Count')\n",
    "ax.set_title('Freq. of Words in Stout Descriptions')\n",
    "plt.subplots_adjust(bottom=0.25)\n",
    "savefig('stout.png')"
   ]
  },
  {
   "cell_type": "code",
   "execution_count": null,
   "metadata": {
    "collapsed": true
   },
   "outputs": [],
   "source": []
  }
 ],
 "metadata": {
  "kernelspec": {
   "display_name": "Python 2",
   "language": "python",
   "name": "python2"
  },
  "language_info": {
   "codemirror_mode": {
    "name": "ipython",
    "version": 2
   },
   "file_extension": ".py",
   "mimetype": "text/x-python",
   "name": "python",
   "nbconvert_exporter": "python",
   "pygments_lexer": "ipython2",
   "version": "2.7.10"
  }
 },
 "nbformat": 4,
 "nbformat_minor": 0
}
