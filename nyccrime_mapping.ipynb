{
 "cells": [
  {
   "cell_type": "code",
   "execution_count": 1,
   "metadata": {
    "collapsed": true
   },
   "outputs": [],
   "source": [
    "def table_features(table_id, select, where = None, maxResults = 1000, pageToken = None):\n",
    "    url = 'https://www.googleapis.com/mapsengine/v1/tables/%s/features/' % table_id\n",
    "\n",
    "    params = {\n",
    "        'key': KEY,\n",
    "        'version': 'published',\n",
    "        'maxResults': maxResults,\n",
    "        'select': select,\n",
    "    }\n",
    "    if where:\n",
    "        params['where'] = where\n",
    "    if pageToken:\n",
    "        params['pageToken'] = pageToken\n",
    "\n",
    "    headers = {\n",
    "        'User-Agent': 'Mozilla/5.0 (X11; Linux x86_64; rv:24.0) Gecko/20100101 Firefox/24.0',\n",
    "        'Referer':  'http://maps.nyc.gov/crime/',\n",
    "    }\n",
    "\n",
    "    r = requests.get(url, headers = headers, params = params)\n",
    "    return r"
   ]
  },
  {
   "cell_type": "code",
   "execution_count": 2,
   "metadata": {
    "collapsed": true
   },
   "outputs": [],
   "source": [
    "def table(table_id):\n",
    "    '''\n",
    "    This would tell us the schema, among other things.\n",
    "    https://developers.google.com/maps-engine/documentation/reference/v1/tables#resource\n",
    "    '''\n",
    "\n",
    "    url = 'https://www.googleapis.com/mapsengine/v1/tables/%s/' % table_id\n",
    "    params = {\n",
    "        'key': KEY,\n",
    "    }\n",
    "    headers = {\n",
    "        'User-Agent': 'Mozilla/5.0 (X11; Linux x86_64; rv:24.0) Gecko/20100101 Firefox/24.0',\n",
    "        'Referer':  'http://maps.nyc.gov/crime/',\n",
    "    }\n",
    "    r = requests.get(url, headers = headers, params = params)\n",
    "    return r"
   ]
  },
  {
   "cell_type": "code",
   "execution_count": null,
   "metadata": {
    "collapsed": true
   },
   "outputs": [],
   "source": []
  }
 ],
 "metadata": {
  "kernelspec": {
   "display_name": "Python 2",
   "language": "python",
   "name": "python2"
  },
  "language_info": {
   "codemirror_mode": {
    "name": "ipython",
    "version": 2
   },
   "file_extension": ".py",
   "mimetype": "text/x-python",
   "name": "python",
   "nbconvert_exporter": "python",
   "pygments_lexer": "ipython2",
   "version": "2.7.10"
  }
 },
 "nbformat": 4,
 "nbformat_minor": 0
}
