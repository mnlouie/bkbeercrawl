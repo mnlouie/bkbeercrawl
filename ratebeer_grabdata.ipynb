{
 "cells": [
  {
   "cell_type": "code",
   "execution_count": 35,
   "metadata": {
    "collapsed": true
   },
   "outputs": [],
   "source": [
    "from bs4 import BeautifulSoup\n",
    "import requests\n",
    "from HTMLParser import HTMLParser\n",
    "import json\n",
    "import collections\n",
    "import os\n",
    "import itertools"
   ]
  },
  {
   "cell_type": "code",
   "execution_count": 63,
   "metadata": {
    "collapsed": false
   },
   "outputs": [
    {
     "name": "stdout",
     "output_type": "stream",
     "text": [
      "http://www.ratebeer.com/beer/rogue-shakespeare-oatmeal-stout/1087/\n"
     ]
    }
   ],
   "source": [
    "stout = '/beer/rogue-shakespeare-oatmeal-stout/1087/'\n",
    "wheatale = '/beer/samuel-adams-summer-ale/171/'\n",
    "\n",
    "html_base = 'http://www.ratebeer.com'\n",
    "\n",
    "html_stout = html_base + stout\n",
    "html_wheat = html_base + wheatale\n",
    "\n",
    "print html_stout"
   ]
  },
  {
   "cell_type": "code",
   "execution_count": 64,
   "metadata": {
    "collapsed": false
   },
   "outputs": [],
   "source": [
    "r = requests.get(html_stout)\n",
    "htmlstout = r.text"
   ]
  },
  {
   "cell_type": "code",
   "execution_count": 46,
   "metadata": {
    "collapsed": false
   },
   "outputs": [],
   "source": [
    "name = stout.split('/')"
   ]
  },
  {
   "cell_type": "code",
   "execution_count": 76,
   "metadata": {
    "collapsed": true
   },
   "outputs": [],
   "source": [
    "r = requests.get(html_wheat)\n",
    "htmlwheat = r.text"
   ]
  },
  {
   "cell_type": "code",
   "execution_count": 79,
   "metadata": {
    "collapsed": false
   },
   "outputs": [
    {
     "data": {
      "text/plain": [
       "u'<html lang=\"en\">\\r\\n<head>\\r\\n<META HTTP-EQUIV=\"Content-Type\" CONTENT=\"text/html; charset=iso-8859-1\">\\r\\n\\r\\n<link rel=\"stylesheet\" href=\"/css/user.css\" type=\"text/css\">\\r\\n\\r\\n    <script type=\"text/javascript\">  \\r\\n        $(document).ready(function(){\\r\\n            $(\"#report tr:odd\").addClass(\"odd\");\\r\\n            $(\"#report tr:not(.odd)\").hide();\\r\\n            $(\"#report tr:first-child\").show();\\r\\n            \\r\\n            $(\"#report tr.odd\").click(function(){\\r\\n                $(this).next(\"tr\").toggle();\\r\\n                $(this).find(\".arrow\").toggleClass(\"up\");\\r\\n            });\\r\\n            //$(\"#report\").jExpand();\\r\\n        });\\r\\n    </script>\\r\\n\\t<script type=\"text/javascript\">\\r\\nfunction recordOutboundLink(link, category, action) {\\r\\ntry {\\r\\nvar myTracker=_gat._getTrackerByName();\\r\\n_gaq.push([\\'myTracker._trackEvent\\', category , action ]);\\r\\nsetTimeout(\\'document.location = \"\\' + link.href + \\'\"\\', 100)\\r\\n}catch(err){}\\r\\n}\\r\\n</script>\\r\\n<link rel=\"canonical\" href=\"http://www.ratebeer.com/beer/samuel-adams-summer-ale/171/\"/>\\r\\n<TITLE>Samuel Adams Summer Ale</TITLE><meta name=\"Description\" content=\"Samuel Adams Summer Ale a Wheat Ale beer by Boston Beer Company, a brewery in Boston, Massachusetts                   \">\\r\\n<meta name=\"Keywords\" content=\"Samuel Adams Summer Ale, Wheat Ale, Boston Beer Company, beer, Boston, Massachusetts                   \">\\r\\n<link rel=\"image_src\" href=\"http://res.cloudinary.com/ratebeer/image/upload/w_50,h_50,c_fill,d_ratebeer_def.png/beer_171.jpg\" />\\r\\n<meta property=\"og:image\" content=\"http://res.cloudinary.com/ratebeer/image/upload/w_50,h_50,c_fill,d_ratebeer_def.png/beer_171.jpg\" />\\r\\n<link rel=\"stylesheet\" href=\"/css/jquery-ui-1.9.2.custom.css\" type=\"text/css\">\\r\\n<script language=\"javascript\" type=\"text/javascript\">\\r\\nfunction PopUpWho(BeerID,wat)\\r\\n{\\r\\n\\tif (wat == 1) {\\r\\n    RedirPage = \"/Ratings-Who.asp?BeerID=\" + BeerID;\\r\\n    window.open(RedirPage, \"WhoRatedThis\", \"toolbar=0,menubar=0,left=337,top=209,resizable=1,height=375,width=375,scrollbars=1\");\\r\\n\\t} else {\\r\\n    RedirPage = \"/Ticks-Who.asp?BeerID=\" + BeerID;\\r\\n    window.open(RedirPage, \"WhoTickedThis\", \"toolbar=0,menubar=0,left=337,top=209,resizable=1,height=375,width=375,scrollbars=1\");\\t\\r\\n\\t}\\r\\n}\\r\\nfunction vIE(){return (navigator.appName==\\'Microsoft Internet Explorer\\')?parseFloat((new RegExp(\"MSIE ([0-9]{1,}[.0-9]{0,})\")).exec(navigator.userAgent)[1]):-1;}\\r\\n</script>\\r\\n\\r\\n<script type=\"text/javascript\" src=\"/ratings/beer/rating.js\"></script>\\r\\n<link type=\"text/css\" rel=\"stylesheet\" href=\"/ratings/beer/rating.css\" />\\r\\n<script type=\"text/javascript\" src=\"/javascript/modal.js\"></script>\\r\\n<script type=\"text/javascript\" src=\"https://apis.google.com/js/plusone.js\"></script>\\r\\n<style type=\"text/css\">\\r\\na.ballno:link, a.ballno:visited {\\r\\n\\tbackground-color: #4d90fe;\\r\\n\\tborder-radius: 25px;\\r\\n\\tcolor: #fff;\\r\\n\\tmin-width: 30px;\\r\\n\\tpadding: 5px 10px;\\r\\n\\tfont-size: 22px;\\r\\n\\tmargin: 5px 3px;\\r\\n}\\r\\n</style>\\r\\n<link rel=\"stylesheet\" href=\"/css_core.css?v=201407\" type=\"text/css\">\\r\\n<meta http-equiv=\"content-language\" content=\"EN\">\\r\\n<link rel=\"shortcut icon\" href=\"/favicon.ico\">\\r\\n\\r\\n<script type=\\'text/javascript\\' src=\\'http://partner.googleadservices.com/gampad/google_service.js\\'>\\r\\n</script>\\r\\n<script type=\\'text/javascript\\'>\\r\\nGS_googleAddAdSenseService(\"ca-pub-4822594167621467\");\\r\\nGS_googleEnableAllServices();\\r\\n</script>\\r\\n<script type=\\'text/javascript\\'>\\r\\nGA_googleAddSlot(\"ca-pub-4822594167621467\", \"header-leaderboard\");\\r\\nGA_googleAddSlot(\"ca-pub-4822594167621467\", \"beerpage468\");\\r\\n</script>\\r\\n<script type=\\'text/javascript\\'>\\r\\nGA_googleFetchAds();\\r\\n</script>\\r\\n<!--link rel=\"stylesheet\" href=\"/css/fa/css/font-awesome.min.css\"-->\\r\\n</head>\\r\\n\\r\\n<body alink=\"#CC3300\" link=\"#003388\" vlink=\"#330044\" text=\"#333333\" marginheight=\"14\" marginwidth=\"0\" topmargin=\"0\" leftmargin=\"0\" >\\r\\n<div id=\"rbbody\">\\r\\n<table align=\"center\" width=\"1000\" cellpadding=\"0\" cellspacing=\"0\" border=\"0\" style=\"height: 80px; z-index:5;\">\\r\\n        <tr>\\r\\n        <td rowspan=\"2\">\\r\\n\\r\\n\\t\\t<a href=\"/\"><img src=\"/images/logos/rblogo072016.png\" alt=\"RateBeer\" border=\"0\" width=\"261\" height=\"60\" style=\"padding-left: 20px; padding-top: 0px;\"></a>\\r\\n\\r\\n        </td>\\r\\n        <td valign=\"top\" align=\"right\" style=\"padding: 14px 12px 0px 0px;\">\\r\\n\\t\\r\\n\\t\\t\\t<div class=\"no-print\">\\r\\n                <FORM action=\"/findbeer.asp\" method=POST name=search>\\r\\n                <span style=\"color:#666\"><a href=\"/NewUser.asp\">Sign Up</a> or <a href=\"/login.asp\">Login</a></span>  \\r\\n                <span style=\"color:#666\">:</span> <A HREF=\"/search.php\"><span style=\"color:#666\">Advanced Search</span></A> &nbsp; <input type=\"text\" name=\"BeerName\" value=\"\" size=\"3\" STYLE=\"padding: 0px 6px;width: 230px; height: 25px; font-size: 12px; background-color:#e0e0e0; border: 0px; border-radius: 28px;\"><input type=\"submit\" style=\"margin-left: 3px; height: 25px; width: 26px; border: 0px; position: relative; top: -1px;background-color:#4d90fe; border-radius: 20px;font-size:10px;color:#fff;cursor: pointer;padding-top: 1px;\" value=\"GO\" />\\r\\n\\t\\t\\t\\t</FORM>\\r\\n\\t\\t\\t</div>\\r\\n        </td></tr>\\r\\n\\r\\n        <tr><td align=\"right\" valign=\"bottom\"><table border=0 cellpadding=0 cellspacing=0><tr><td align=\"right\">\\r\\n                <ul id=\"nav\" class=\"no-print\">\\r\\n                <li><a  href=\"/places/mylocal.asp\">Local</a></li>\\r\\n                    <li ><a id=\"current\" href=\"/beer-ratings/\">Ratings</a>\\r\\n\\t\\t\\t\\t\\t\\r\\n\\t\\t\\t\\t\\r\\n                    <li><a  href=\"/users\">People</a></li>\\r\\n\\r\\n\\r\\n                \\r\\n                    <li><a  href=\"/shop\">Shop</a></li>\\r\\n\\t\\t\\t\\t\\t\\r\\n\\t\\t\\t\\t\\t                \\r\\n                    <li><a  href=\"/events\">Events</a></li>\\r\\n\\t\\t\\t\\t\\t\\r\\n\\t\\t\\t\\t\\t\\r\\n                \\r\\n                    <li><a  href=\"/places/browse/\">Places</a></li>\\r\\n                \\r\\n                    <li><a  href=\"/forums/\">Forums</a></li>\\r\\n\\r\\n\\r\\n                </ul></td></tr></table></td></tr></table></td></tr></table>\\r\\n\\r\\n<div class=\"fums\" style=\"border-bottom: 1px solid #e0e0e0 !important; border-color: #f0f0f0; background: #f4f4f4; width: 1000px; margin: auto; text-align: center; white-space:nowrap;height: 100px;padding-top:10px;\"><!-- header-leaderboard -->\\r\\n<script type=\\'text/javascript\\'>\\r\\nGA_googleFillSlot(\"header-leaderboard\");\\r\\n</script></div>\\r\\n<div id=\"container\">\\r\\n\\r\\n\\r\\n<!-- Content begins -->\\r\\n<span itemscope itemtype=\"http://data-vocabulary.org/Review-aggregate\"><TABLE width=\"100%\" cellpadding=0 cellspacing=0 border=0>\\r\\n<TR><TD></TD>\\r\\n<TD colspan=2>\\r\\n<div style=\"margin: 20px 10px 10px 20px;\"><a href=\"/\"><IMG border=0 src=\"/images/icons/home.png\"> Home</a> &gt; <div itemscope itemtype=\"http://data-vocabulary.org/Breadcrumb\" style=\"display: inline;\"><a href=\"http://www.ratebeer.com/breweries/\" itemprop=\"url\"><span itemprop=\"title\">Breweries</span></a> \\x9b </div><div itemscope itemtype=\"http://data-vocabulary.org/Breadcrumb\" style=\"display: inline;\"><a href=\"http://www.ratebeer.com/breweries/massachusetts/21/213/\" itemprop=\"url\"><span itemprop=\"title\">United States: Massachusetts</span></a> \\x9b </div>  <div itemscope itemtype=\"http://data-vocabulary.org/Breadcrumb\" style=\"display: inline;\"><a href=\"http://www.ratebeer.com/brewers/boston-beer-company/32/\" itemprop=\"url\"><span itemprop=\"title\">Boston Beer Company</span></a></div><br><br><div class=\"user-header\"><h1 itemprop=\"itemreviewed\">Samuel Adams Summer Ale</h1></div></div></TD></TR><TR><TD valign=\"top\" id=\"tdL\"><div style=\"padding: 10px 0px 10px 20px\"><a href=\"http://res.cloudinary.com/ratebeer/image/upload/w_250,c_limit,q_85,d_beer_def.gif/beer_171.jpg\"><IMG class=\"curvy\" id=\"beerImg\" border=\"0\" SRC=\"http://res.cloudinary.com/ratebeer/image/upload/w_120,c_limit,q_85,d_no%20image.jpg/beer_171.jpg\"\" style=\"max-height: 300px; max-width: 120px; height: auto; width: auto;\"  ALT=\"Samuel Adams Summer Ale\"></a><br><br><small><a href=\"/PictureCredits.asp\">* picture credits<br>copyright may apply</a></small><br></div></TD><TD width=\"650\" valign=\"top\"><div style=\"margin: 0px 10px 10px 10px\"><table width=100% cellpadding=0 cellspacing=10 border=0><tr><td width=\"150\" valign=\"top\" align=center><span itemprop=\"rating\" itemscope itemtype=\"http://data-vocabulary.org/Rating\"><div style=\"background-color: #036; width: 100px; height: 100px; border-radius: 130px;z-index: 5;text-align: center; \"><div style=\"font-size: 48px; font-weight: bold; color: #fff; padding: 7px 10px;\" title=\"35: This figure represents a beer\\x92s performance relative to all beers on an adjusted percentile basis. Find out more in the FAQ.\"><span style=\"font-size: 11px; font-weight: normal;line-height: 1.5;\">overall</span><br><span >35</span><br></div></div><div style=\"background-color: #66A212; position: relative; left: 0px; top: -20px; width: 67px; height: 67px; border-radius: 67px; z-index: -1;text-align: center;\" title=\"48.352: This figure represents a beer\\x92s performance relative to its peers in the same beer style category on an adjusted percentile basis. Find out more in the FAQ.\"><div style=\"font-size: 25px; font-weight: bold; color: #fff; padding: 20px 0px; \"><span itemprop=\"average\">48</span><br><span style=\"font-size: 10px;font-weight: normal;\">style</span></div></div><meta itemprop=\"best\" content=\"100\"/><meta itemprop=\"worst\" content=\"0\"/></span></td><td width=\"80%\" valign=\"top\"><div style=\"padding-bottom: 7px; line-height: 1.5;\"><big>Brewed by <b><a href=\"/brewers/boston-beer-company/32/\">Boston Beer Company</A></b></big><br>Style: <a href=\"/beerstyles/wheat-ale/19/\">Wheat Ale</a><br><a href=\"/Places/State/Cities/boston/21.htm\">Boston</a>, <a href=\"/places/states/21/\">Massachusetts                   </a> USA</div><div style=\"padding: 0px 0px;\">Serve in <div id=\"modal\" style=\"border:3px solid #999; background: #fff; display:none;border-radius: 15px;width: 460px;\"><div id=\"glass\"></div><div><br></div></div><a href=\"/ShowGlassware.asp?GWID=4\" rel=\"modal:open\">Shaker</a>, <div id=\"modal\" style=\"border:3px solid #999; background: #fff; display:none;border-radius: 15px;width: 460px;\"><div id=\"glass\"></div><div><br></div></div><a href=\"/ShowGlassware.asp?GWID=12\" rel=\"modal:open\">Weizen</a></div><br><table bgcolor=#666666 cellpadding=0 cellspacing=0 border=0><tr><td valign=top align=center bgcolor=#FFFFFF><IMG border=0 SRC=/images/icons/avail_bottle_green.gif></td><td valign=top><p style=\"font-size: 11px; color: #fff; line-height: .95; margin: 5px 8px 5px 8px;\">bottled<br>common</p></td><td valign=top align=center bgcolor=#FFFFFF><IMG border=0 SRC=/images/icons/avail_tap_brown.gif></td><td valign=top><p style=\"font-size: 11px; color: #fff; line-height: .95; margin: 5px 8px 5px 8px;\">on tap<br>available</p></td><td valign=top align=center bgcolor=#FFFFFF><IMG border=0 SRC=/images/icons/avail_map_green.gif></td><td valign=top><p style=\"color: #fff; font-size: 11px; line-height: .95; margin: 5px 8px 5px 8px;\"><a href=/beer/distribution/171/><span style=\"color: #fff;\">Broad Distribution</span></a></p></td><td bgcolor=#FFFFFF><a href=\"/beer/distribution/171/\"><IMG alt=\"Add Distribution Data\" border=0 SRC=/images/icons/avail_add.gif></a></td></tr></table><div style=\"color: #999; padding: 5px 0px;\"><A HREF=\"/CorrectBeer.asp?BeerID=171\">send corrections</a> &nbsp; | &nbsp; <a href=/shelftag.asp?beerid=171>shelftag <img style=\"margin-top: 2px;\" src=/images/icons/st.gif border=0></a> <a href=/shelftag.asp?BeerID=171&style=1><img src=/images/icons/st2.gif border=0></a> &nbsp; | &nbsp; <A HREF=\"/editbeerupcs.asp?bid=171\">edit barcodes</a> &nbsp; | &nbsp; <a href=\"mailto:photos@ratebeer.com?subject=beer 171 image update\">update pic</a></div></td><td width=120 valign=\"top\"></td></tr></table><div style=\"padding: 0px 10px; font-weight: bold; font-size: 12px;\"><small><abbr title=\"Total number of reviews of this beer\">RATINGS: </abbr><big style=\"color: #777;\"><b><span itemprop=\"count\">2272</span></b></big>&nbsp;&nbsp; <a name=\"real average\" title=\"The weighted average, 2.938298, is the Bayesian mean of all qualified ratings for this beer\" >WEIGHTED AVG: <big style=\"color: #777;\"><strong>2.94</strong></big></a>&nbsp;&nbsp; SEASONAL: <big style=\"color: #777;\"><strong>Summer</strong></big>&nbsp;&nbsp; <abbr title=\"Estimated calories for a 12 fluid ounce serving\">EST. CALORIES</abbr>: <big style=\"color: #777;\">159</strong></big>&nbsp;&nbsp; <abbr title=\"Alcohol By Volume\">ABV</abbr>: <big style=\"color: #777;\"><strong>5.3%</strong></big></small></div><div style=\"padding: 10px;\"><div style=\"border: 1px solid #e0e0e0; background: #fff; padding: 14px; color: #777;\"><small>COMMERCIAL DESCRIPTION</small><br>Samuel Adams\\xae Summer Ale is an American wheat ale. This summer seasonal uses malted wheat, lemon zest and Grains of Paradise, a rare pepper from Africa first used as a brewing spice in the 13th century, to create a crisp taste, spicy flavor and medium body. The ale fermentation imparts a background tropical fruit note reminiscent of mangos and peaches.  All of these flavors come together to create a thirst quenching, clean finishing beer perfect for those warm summer days.</div></div><br>\\r\\n\\r\\n\\r\\n<table cellpadding=0 cellspacing=0 border=0 style=\"margin: 0px 0px 20px 0px;\"><tr><td width=\"600\" align=\"center\">\\r\\n<div style=\"width: 468px;padding: 0px 10px 14px 10px;\">\\r\\n<!-- beerpage468 -->\\r\\n<script type=\\'text/javascript\\'>\\r\\nGA_googleFillSlot(\"beerpage468\");\\r\\n</script>\\r\\n</div>\\r\\n</td></tr>\\r\\n</table>\\r\\n\\t\\r\\n<div style=\"width: 100%;border-bottom: 1px solid #e2e2e2;height: 19px;padding-left: 10px;\">\\r\\n<span class=\"statsHeader selected\"><a href=\"/beer/samuel-adams-summer-ale/171/\">Most Recent</a></span>\\r\\n<span class=\"statsHeader \"><a href=\"/beer/samuel-adams-summer-ale/171/2/1/\">Top Raters</a></span>\\r\\n<span class=\"statsHeader \"><a href=\"/beer/samuel-adams-summer-ale/171/3/1/\">Highest Score</a></span>\\r\\n<span class=\"statsHeader \"><a href=\"/beer/samuel-adams-summer-ale/171/5/1/\">My Friends</a></span>\\r\\n<span class=\"statsHeader\"><a href=\"javascript:PopUpWho(171,1);\">Rated By <img src=\"/images/icons/open.gif\" border=\"0\" height=\"10\"></a></span>\\r\\n<span class=\"statsHeader\"><a href=\"javascript:PopUpWho(171,2);\">Ticked By <img src=\"/images/icons/open.gif\" border=\"0\" height=\"10\"></a></span>\\r\\n<!-- Add Beer Ticks Here \\' JT sp_Ticks @Mode = G1 @BeerID -->\\r\\n</div>\\r\\n\\t<br><table cellpadding=0 cellspacing=0 border=0  style=\"padding: 10px;\"><tr><td><div style=\"padding: 0px 0px 0px 0px;\"><div style=\"width: 60px; float: left; padding-right: 10px;\"><IMG style=\"max-width: 60px; max-height: 60px; height: auto; width: auto;\" width= \"60\" src=\"http://res.cloudinary.com/ratebeer/image/upload/w_50,c_limit,q_80,d_user_def.gif/user_Low69caprice.jpg\" class=\"curvy\"></div><div style=\"display:inline; padding: 0px 0px; font-size: 24px; font-weight: bold; color: #036;\" title=\"2.8 out of 5.0\">2.8</div><strong>&nbsp;&nbsp;<small> AROMA </small><big style=\"color: #999;\">4/10</big>&nbsp;&nbsp;<small> APPEARANCE </small><big style=\"color: #999;\">5/5</big>&nbsp;&nbsp;<small> TASTE </small><big style=\"color: #999;\">4/10</big>&nbsp;&nbsp;<small> PALATE </small><big style=\"color: #999;\">3/5</big>&nbsp;&nbsp;<small> OVERALL </small><big style=\"color: #999;\">12/20</big></strong></div><small style=\"color: #666666; font-size: 12px; font-weight: bold;\"><A HREF=\"/user/383215/\">Low69caprice&nbsp;(100)</A></I> - Yucca valley, California, USA - SEP 10, 2015</small><BR><div style=\"padding: 20px 10px 20px 0px; border-bottom: 1px solid #e0e0e0; line-height: 1.5;\">Some Vienna aroma. Slightly sweet no mouthfeel crystal clear yellow some wheat notes. Very watery conflicted with some sweetness.  </div><br><div style=\"padding: 0px 0px 0px 0px;\"><div style=\"width: 60px; float: left; padding-right: 10px;\"><IMG style=\"max-width: 60px; max-height: 60px; height: auto; width: auto;\" width= \"60\" src=\"http://res.cloudinary.com/ratebeer/image/upload/w_50,c_limit,q_80,d_user_def.gif/user_beer_rookie.jpg\" class=\"curvy\"></div><div style=\"display:inline; padding: 0px 0px; font-size: 24px; font-weight: bold; color: #036;\" title=\"3.4 out of 5.0\">3.4</div><strong>&nbsp;&nbsp;<small> AROMA </small><big style=\"color: #999;\">6/10</big>&nbsp;&nbsp;<small> APPEARANCE </small><big style=\"color: #999;\">4/5</big>&nbsp;&nbsp;<small> TASTE </small><big style=\"color: #999;\">6/10</big>&nbsp;&nbsp;<small> PALATE </small><big style=\"color: #999;\">3/5</big>&nbsp;&nbsp;<small> OVERALL </small><big style=\"color: #999;\">15/20</big></strong></div><small style=\"color: #666666; font-size: 12px; font-weight: bold;\"><A HREF=\"/user/353961/\">beer_rookie&nbsp;(161)</A></I> - Arkansas, USA - SEP 8, 2015</small><BR><div style=\"padding: 20px 10px 20px 0px; border-bottom: 1px solid #e0e0e0; line-height: 1.5;\">Pours a cloudy honey color. Thick white head. Some lacing. Pretty well carbonated.<br /><br />Aroma is sour. I\\x92m not sure what it is. Also, a little lemony.<br /><br />Taste is a little spicy. That sourness in the aroma is finding it\\x92s way into the back of my throat. It\\x92s a little odd. It\\x92s got a little lemony zest flavor, and also some something. I don\\x92t know.<br /><br />Mouthfeel while a little a bitter, is very refreshing. It\\x92s more bitter than IBUs might suggest.It\\x92s maybe a little heavier body that I would want in a &quot;summer ale&quot;, I would want something a little lighter. But this is medium bodied.<br /><br />Overall this is good. It\\x92s not great. There\\x92s some tastes and stuff in here that I\\x92m no familiar with, or are hard to taste. I guess I would have it again. It\\x92s not amazing, but it\\x92s ok. </div><br><div style=\"padding: 0px 0px 0px 0px;\"><div style=\"width: 60px; float: left; padding-right: 10px;\"><IMG style=\"max-width: 60px; max-height: 60px; height: auto; width: auto;\" width= \"60\" src=\"http://res.cloudinary.com/ratebeer/image/upload/w_50,c_limit,q_80,d_user_def.gif/user_klaing.jpg\" class=\"curvy\"></div><div style=\"display:inline; padding: 0px 0px; font-size: 24px; font-weight: bold; color: #036;\" title=\"2.8 out of 5.0\">2.8</div><strong>&nbsp;&nbsp;<small> AROMA </small><big style=\"color: #999;\">6/10</big>&nbsp;&nbsp;<small> APPEARANCE </small><big style=\"color: #999;\">3/5</big>&nbsp;&nbsp;<small> TASTE </small><big style=\"color: #999;\">5/10</big>&nbsp;&nbsp;<small> PALATE </small><big style=\"color: #999;\">3/5</big>&nbsp;&nbsp;<small> OVERALL </small><big style=\"color: #999;\">11/20</big></strong></div><small style=\"color: #666666; font-size: 12px; font-weight: bold;\"><A HREF=\"/user/120839/\">klaing&nbsp;(131)</A></I> - Florida, USA - SEP 4, 2015</small><BR><div style=\"padding: 20px 10px 20px 0px; border-bottom: 1px solid #e0e0e0; line-height: 1.5;\">Cloudy yellow. Sweetness a little cloying with esters. Mild hopping. Some lemon. Ok.\\n\\n&#045;&#045;-Rated via Beer Buddy for iPhone </div><br><div style=\"padding: 0px 0px 0px 0px;\"><div style=\"width: 60px; float: left; padding-right: 10px;\"><IMG style=\"max-width: 60px; max-height: 60px; height: auto; width: auto;\" width= \"60\" src=\"http://res.cloudinary.com/ratebeer/image/upload/w_50,c_limit,q_80,d_user_def.gif/user_Subliminal64.jpg\" class=\"curvy\"></div><div style=\"display:inline; padding: 0px 0px; font-size: 24px; font-weight: bold; color: #036;\" title=\"4.2 out of 5.0\">4.2</div><strong>&nbsp;&nbsp;<small> AROMA </small><big style=\"color: #999;\">8/10</big>&nbsp;&nbsp;<small> APPEARANCE </small><big style=\"color: #999;\">5/5</big>&nbsp;&nbsp;<small> TASTE </small><big style=\"color: #999;\">8/10</big>&nbsp;&nbsp;<small> PALATE </small><big style=\"color: #999;\">5/5</big>&nbsp;&nbsp;<small> OVERALL </small><big style=\"color: #999;\">16/20</big></strong></div><small style=\"color: #666666; font-size: 12px; font-weight: bold;\"><A HREF=\"/user/357144/\">Subliminal64&nbsp;(41)</A></I> - London, Ontario, CANADA - AUG 23, 2015</small><BR><div style=\"padding: 20px 10px 20px 0px; border-bottom: 1px solid #e0e0e0; line-height: 1.5;\">Great drinking Wheat Ale. Goes down smooth with no aftertaste. Not nearly as good as Erdinger, but a hell of a showing. Will buy again.\\r\\n\\r\\nMB </div><br><div style=\"padding: 0px 0px 0px 0px;\"><div style=\"width: 60px; float: left; padding-right: 10px;\"><IMG style=\"max-width: 60px; max-height: 60px; height: auto; width: auto;\" width= \"60\" src=\"http://res.cloudinary.com/ratebeer/image/upload/w_50,c_limit,q_80,d_user_def.gif/user_MarkoR.jpg\" class=\"curvy\"></div><div style=\"display:inline; padding: 0px 0px; font-size: 24px; font-weight: bold; color: #036;\" title=\"2.8 out of 5.0\">2.8</div><strong>&nbsp;&nbsp;<small> AROMA </small><big style=\"color: #999;\">6/10</big>&nbsp;&nbsp;<small> APPEARANCE </small><big style=\"color: #999;\">3/5</big>&nbsp;&nbsp;<small> TASTE </small><big style=\"color: #999;\">6/10</big>&nbsp;&nbsp;<small> PALATE </small><big style=\"color: #999;\">3/5</big>&nbsp;&nbsp;<small> OVERALL </small><big style=\"color: #999;\">10/20</big></strong></div><small style=\"color: #666666; font-size: 12px; font-weight: bold;\"><A HREF=\"/user/23484/\">MarkoR&nbsp;(745)</A></I> - Toronto, Ontario, CANADA - AUG 19, 2015</small><BR><div style=\"padding: 20px 10px 20px 0px; border-bottom: 1px solid #e0e0e0; line-height: 1.5;\">On tap at the Frog Pond, in Rochester, NY. Pours a cloudy yellow colour with a small white head. Aroma is bread, banana. Taste is same and grainy malt. So so...\\r\\n </div><br><table cellpadding=0 cellspacing=0 border=0 style=\"margin: 0px 0px 20px 0px;border-bottom: 1px solid #e0e0e0;\"><tr><td width=\"600\" align=\"center\"><div style=\"width: 468px;padding: 0px 10px 14px 10px;\"><!-- beerpage468 -->\\r\\n<script type=\\'text/javascript\\'>\\r\\nGA_googleFillSlot(\"beerpage468\");\\r\\n</script>\\r\\n</div>\\r\\n</td></tr>\\r\\n</table>\\r\\n<div style=\"padding: 0px 0px 0px 0px;\"><div style=\"width: 60px; float: left; padding-right: 10px;\"><IMG style=\"max-width: 60px; max-height: 60px; height: auto; width: auto;\" width= \"60\" src=\"http://res.cloudinary.com/ratebeer/image/upload/w_50,c_limit,q_80,d_user_def.gif/user_scotchzombie.jpg\" class=\"curvy\"></div><div style=\"display:inline; padding: 0px 0px; font-size: 24px; font-weight: bold; color: #036;\" title=\"3.2 out of 5.0\">3.2</div><strong>&nbsp;&nbsp;<small> AROMA </small><big style=\"color: #999;\">6/10</big>&nbsp;&nbsp;<small> APPEARANCE </small><big style=\"color: #999;\">3/5</big>&nbsp;&nbsp;<small> TASTE </small><big style=\"color: #999;\">7/10</big>&nbsp;&nbsp;<small> PALATE </small><big style=\"color: #999;\">4/5</big>&nbsp;&nbsp;<small> OVERALL </small><big style=\"color: #999;\">12/20</big></strong></div><small style=\"color: #666666; font-size: 12px; font-weight: bold;\"><A HREF=\"/user/213571/\">scotchzombie&nbsp;(430)</A></I> - Raleigh, North Carolina, USA - AUG 16, 2015</small><BR><div style=\"padding: 20px 10px 20px 0px; border-bottom: 1px solid #e0e0e0; line-height: 1.5;\">Cloudy golden yellow with a decent white head. Aroma is banana and bready malts; some yeast. Taste brings some light citrus tang with notes of banana and bubblegum. Grainy malt backbone. Very refreshing.  </div><br><div style=\"padding: 0px 0px 0px 0px;\"><div style=\"width: 60px; float: left; padding-right: 10px;\"><IMG style=\"max-width: 60px; max-height: 60px; height: auto; width: auto;\" width= \"60\" src=\"http://res.cloudinary.com/ratebeer/image/upload/w_50,c_limit,q_80,d_user_def.gif/user_Sjohnh.jpg\" class=\"curvy\"></div><div style=\"display:inline; padding: 0px 0px; font-size: 24px; font-weight: bold; color: #036;\" title=\"3.2 out of 5.0\">3.2</div><strong>&nbsp;&nbsp;<small> AROMA </small><big style=\"color: #999;\">6/10</big>&nbsp;&nbsp;<small> APPEARANCE </small><big style=\"color: #999;\">3/5</big>&nbsp;&nbsp;<small> TASTE </small><big style=\"color: #999;\">7/10</big>&nbsp;&nbsp;<small> PALATE </small><big style=\"color: #999;\">3/5</big>&nbsp;&nbsp;<small> OVERALL </small><big style=\"color: #999;\">13/20</big></strong></div><small style=\"color: #666666; font-size: 12px; font-weight: bold;\"><A HREF=\"/user/314904/\">Sjohnh&nbsp;(496)</A></I> - Coventry, West Midlands, ENGLAND - AUG 11, 2015</small><BR><div style=\"padding: 20px 10px 20px 0px; border-bottom: 1px solid #e0e0e0; line-height: 1.5;\">Bright yellow / orange colour, with a small white head. Medium body - you get a bit of the wheat texture. There is grain in the aroma and taste - I couldn\\x92t say whether or not it was &quot;gram of paradise&quot; - and a sweet lemon taste too. Pleasant enough. </div><br><div style=\"padding: 0px 0px 0px 0px;\"><div style=\"width: 60px; float: left; padding-right: 10px;\"><IMG style=\"max-width: 60px; max-height: 60px; height: auto; width: auto;\" width= \"60\" src=\"http://res.cloudinary.com/ratebeer/image/upload/w_50,c_limit,q_80,d_user_def.gif/user_andrewje41.jpg\" class=\"curvy\"></div><div style=\"display:inline; padding: 0px 0px; font-size: 24px; font-weight: bold; color: #036;\" title=\"2.8 out of 5.0\">2.8</div><strong>&nbsp;&nbsp;<small> AROMA </small><big style=\"color: #999;\">5/10</big>&nbsp;&nbsp;<small> APPEARANCE </small><big style=\"color: #999;\">3/5</big>&nbsp;&nbsp;<small> TASTE </small><big style=\"color: #999;\">5/10</big>&nbsp;&nbsp;<small> PALATE </small><big style=\"color: #999;\">3/5</big>&nbsp;&nbsp;<small> OVERALL </small><big style=\"color: #999;\">12/20</big></strong></div><small style=\"color: #666666; font-size: 12px; font-weight: bold;\"><A HREF=\"/user/268723/\">andrewje41&nbsp;(1494)</A></I> - Kenmore, Washington, USA - JUL 25, 2015</small><BR><div style=\"padding: 20px 10px 20px 0px; border-bottom: 1px solid #e0e0e0; line-height: 1.5;\">Draft pour pint at the dirty bird. This week on &quot;I can\\x92t believe I haven\\x92t rated this&quot; we have yet another Sam Adams beer. Pours an oily golden color with a thin fizz head. Soft grainy wheat aroma. Flavor is exactly what I expected. A mild wheat flavor, light body, and a decently refreshing cool finish. In a lineup of common competition, this is an obvious choice, though it\\x92s not my favorite &quot;summer&quot; beer. I have a different definition. Not bad. </div><br><div style=\"padding: 0px 0px 0px 0px;\"><div style=\"width: 60px; float: left; padding-right: 10px;\"><IMG style=\"max-width: 60px; max-height: 60px; height: auto; width: auto;\" width= \"60\" src=\"http://res.cloudinary.com/ratebeer/image/upload/w_50,c_limit,q_80,d_user_def.gif/user_skatanarchy.jpg\" class=\"curvy\"></div><div style=\"display:inline; padding: 0px 0px; font-size: 24px; font-weight: bold; color: #036;\" title=\"2.3 out of 5.0\">2.3</div><strong>&nbsp;&nbsp;<small> AROMA </small><big style=\"color: #999;\">3/10</big>&nbsp;&nbsp;<small> APPEARANCE </small><big style=\"color: #999;\">3/5</big>&nbsp;&nbsp;<small> TASTE </small><big style=\"color: #999;\">7/10</big>&nbsp;&nbsp;<small> PALATE </small><big style=\"color: #999;\">3/5</big>&nbsp;&nbsp;<small> OVERALL </small><big style=\"color: #999;\">7/20</big></strong></div><small style=\"color: #666666; font-size: 12px; font-weight: bold;\"><A HREF=\"/user/353609/\">skatanarchy&nbsp;(180)</A></I> -  - JUL 24, 2015</small><BR><div style=\"padding: 20px 10px 20px 0px; border-bottom: 1px solid #e0e0e0; line-height: 1.5;\">&#48372;&#49828;&#53556; &#48708;&#50612; &#52980;&#54140;&#45768; - &#49324;&#47924;&#50648; &#50500;&#45812;&#49828; &#49436;&#47672; &#50640;&#51068; 5.3% ABV &#44396;&#49688;&#54620; &#48372;&#47532;&#47579;&#50640; &#44032;&#48316;&#50868; &#47112;&#47788;&#54693;&#51032; &#46244;&#45149;. &#44592;&#48516; &#51339;&#51008; &#50668;&#47492; &#49884;&#51592;&#45328; &#50967; &#50640;&#51068;. &#50500;&#54532;&#47532;&#52852;&#49328; &#54168;&#54140;&#44032; &#46308;&#50612;&#44032; &#49828;&#54028;&#51060;&#49884; &#54632;&#46020; &#51080;&#45796;&#45716;&#45936; &#45796;&#49884; &#47560;&#49492;&#48372;&#44256; &#49910;&#45796;. \\r\\n\\r\\nhttps://twitter.com/MaekJuBot\\r\\n\\r\\n </div><br><div style=\"padding: 0px 0px 0px 0px;\"><div style=\"width: 60px; float: left; padding-right: 10px;\"><IMG style=\"max-width: 60px; max-height: 60px; height: auto; width: auto;\" width= \"60\" src=\"http://res.cloudinary.com/ratebeer/image/upload/w_50,c_limit,q_80,d_user_def.gif/user_bigda83.jpg\" class=\"curvy\"></div><div style=\"display:inline; padding: 0px 0px; font-size: 24px; font-weight: bold; color: #036;\" title=\"2.7 out of 5.0\">2.7</div><strong>&nbsp;&nbsp;<small> AROMA </small><big style=\"color: #999;\">5/10</big>&nbsp;&nbsp;<small> APPEARANCE </small><big style=\"color: #999;\">3/5</big>&nbsp;&nbsp;<small> TASTE </small><big style=\"color: #999;\">5/10</big>&nbsp;&nbsp;<small> PALATE </small><big style=\"color: #999;\">4/5</big>&nbsp;&nbsp;<small> OVERALL </small><big style=\"color: #999;\">10/20</big></strong></div><small style=\"color: #666666; font-size: 12px; font-weight: bold;\"><A HREF=\"/user/300937/\">bigda83&nbsp;(522)</A></I> - Jamestown, New York, USA - JUL 22, 2015</small><BR><div style=\"padding: 20px 10px 20px 0px; border-bottom: 1px solid #e0e0e0; line-height: 1.5;\">Poured a cloudy golden color with fluffy white head. Aromas of lemon, wheat, hay. Taste followed the nose. Light body and thin texture. Bubbly carbonation. Refreshing to drink in the summer. Similar to a shandy. </div><br></td></tr></table>\\r\\n\\t\\t\\t\\t\\t<br>\\r\\n\\t\\t\\t\\t\\t<div style=\"width: 510px; padding: 10px;\">\\r\\n\\t\\t\\t\\r\\n\\t\\t\\t\\t\\t<h2><a href=/NewUser.asp>We Want To Hear From You</a></h2><br><br>\\r\\n\\t\\t\\t\\t\\t<big>\\r\\n\\t\\t\\t\\t\\tJoin us! RateBeer is made by beer enthusiasts for the craft beer community. \\r\\n                    Your basic membership is free and allows you to read all beer ratings.\\r\\n\\t\\t\\t\\t\\tClick here to create your account... and give your opinion!<br>\\r\\n<br>\\r\\n\\r\\n\\t\\t\\t\\t\\t<a href=\"/NewUser.asp\" class=\"large awesome orange\"><span style=\"color: #fff;\">Join Us &raquo;</span></a><br>\\r\\n\\t\\t\\t\\t\\t<br>\\r\\n\\r\\n\\t\\t\\t\\t\\t<br>\\r\\n\\t\\t\\t\\t<div style=\"width: 560px; text-align: center; padding: 10px;\">\\r\\n<!-- beerpage468 -->\\r\\n<script type=\\'text/javascript\\'>\\r\\nGA_googleFillSlot(\"beerpage468\");\\r\\n</script>\\r\\n\\t\\t\\t\\t\\t</div>\\r\\n\\t\\t\\t\\t\\t</big></div><br>\\r\\n                            \\r\\nPage &nbsp; <b><big><big>&nbsp;1&nbsp;</big></big></b> <a href=\"/beer/samuel-adams-summer-ale/171/1/2/\" class=\"ballno\">2</a> <a href=\"/beer/samuel-adams-summer-ale/171/1/3/\" class=\"ballno\">3</a> <a href=\"/beer/samuel-adams-summer-ale/171/1/4/\" class=\"ballno\">4</a>  <b class=\"ballno\">&raquo;</b> <a href=\"/beer/samuel-adams-summer-ale/171/1/228/\" class=\"ballno\">228</a></div><br><br></TD><TD valign=top style=\"width: 250px; background-color: #fff;\">\\r\\n\\t\\t<div style=\"padding-top: 20px;\">\\r\\n\\t\\t<div id=\"star-rating\">\\r\\n<div id=\"tickMsg\" style=\"padding: 0px 0px 0px 7px;height: 20px;\"><h3>Tick this beer</h3> for your profile</div>\\r\\n<ul>\\r\\n<li class=\"current-rating\" style=\"width:0px;\">Currently 0/5 Stars.</li>\\r\\n<li><a href=\"#\" onclick=\"document.location.href = \\'/newuser.asp?m=1\\';\" title=\"Rate this 1 stars out of 5\" class=\"star-1\">1</a></li>\\r\\n<li><a href=\"#\" onclick=\"document.location.href = \\'/newuser.asp?m=1\\';\" title=\"Rate this 2 stars out of 5\" class=\"star-2\">2</a></li>\\r\\n<li><a href=\"#\" onclick=\"document.location.href = \\'/newuser.asp?m=1\\';\" title=\"Rate this 3 stars out of 5\" class=\"star-3\">3</a></li>\\r\\n<li><a href=\"#\" onclick=\"document.location.href = \\'/newuser.asp?m=1\\';\" title=\"Rate this 4 stars out of 5\" class=\"star-4\">4</a></li>\\r\\n<li><a href=\"#\" onclick=\"document.location.href = \\'/newuser.asp?m=1\\';\" title=\"Rate this 5 stars out of 5\" class=\"star-5\">5</a></li>\\r\\n</ul>\\r\\n</div>\\r\\n\\r\\n\\t\\t</div>\\r\\n<ul class=\"rightnav\"><li style=\"padding: 2px 10px; font-size: 20px; \"><a href=\"/login.asp\" class=\"large orange awesome\"><span style=\"color: #fff;\">Rate This</span></a></li><li style=\"padding: 2px 10px; font-size: 16px;\"><a href=\"/beer/statistics/171/\" class=\"large orange awesome\"><span style=\"color: #fff;\">Statistics</span></a></li><li style=\"padding: 2px 10px; font-size: 16px;\"><a href=\"/beer/distribution/171/\" class=\"large orange awesome\"><span style=\"color: #fff;\">Locate Sellers</span></a></li>\\r\\n<div style=\"padding: 5px 8px;\">\\r\\n<!-- AddToAny BEGIN -->\\r\\n<div class=\"a2a_kit a2a_default_style\">\\r\\n<a class=\"a2a_dd\" href=\"https://www.addtoany.com/share_save\">Share</a>\\r\\n<span class=\"a2a_divider\"></span>\\r\\n<a class=\"a2a_button_facebook\"></a>\\r\\n<a class=\"a2a_button_twitter\"></a>\\r\\n<a class=\"a2a_button_google_plus\"></a>\\r\\n<a class=\"a2a_button_flipboard\"></a>\\r\\n</div>\\r\\n<script type=\"text/javascript\" src=\"//static.addtoany.com/menu/page.js\"></script>\\r\\n<!-- AddToAny END --></div>\\r\\n\\r\\n\\t\\t\\r\\n\\t\\t<br>\\r\\n\\t\\t\\r\\n\\t\\t</div>\\r\\n\\t\\t<br>\\r\\n<div style=\"padding: 0px 10px; font-size:12px;\"><div><h3>tags</h3><br><span style=\"color: #999999;\"><span class=\"tagLink\"><a  href=\"/tag/grains-of-paradise/\">#grains of paradise</a></span><b</span></div></div><br><div style=\"padding: 10px 14px; font-size: 12px; line-height: 1.5;\"><strong>More Wheat Ales By Style</strong><br><A HREF=\"/beer/moonlight-sour-mash-wheat/128086/\">Moonlight Sour Mash Wheat</A> 98<br><A HREF=\"/beer/ticketybrew--brewdog-coffee-wit/294770/\">Ticketybrew / BrewDog Coffee Wit </A> 79<br><A HREF=\"/beer/coast-shreddin-wheat/153548/\">COAST Shreddin\\x92 Wheat</A> 80<br><A HREF=\"/beer/begyle-crash-landed/191471/\">Begyle Crash Landed</A> 97<br><A HREF=\"/beer/bryggeri-helsinki-midnight-sun/334486/\">Bryggeri Helsinki Midnight Sun</A> 64<br><A HREF=\"/beer/iron-hill-american-wheat/89708/\">Iron Hill American Wheat</A> 83<br><A HREF=\"/beer/top-out-schmankerl/240523/\">Top Out Schmankerl</A> 93<br><A HREF=\"/beer/arbor-tree-fort-beer/86194/\">Arbor Tree Fort Beer</A> 84<br></div>\\r\\n<br>\\r\\n<br>\\r\\n\\r\\n\\r\\n</td></tr></table>\\r\\n\\r\\n\\r\\n</TD></TR></TABLE>\\r\\n</div>\\r\\n<!-- Content ends -->\\r\\n<!-- Footer begins -->\\r\\n</div>\\r\\n<center>\\r\\n<style type=\"text/css\">#foota a {color: #003366;}\\r\\n</style>\\r\\n<div style=\"width: 1000px; vertical-align: middle; color: #666;z-index: 5; border-top: 1px solid #f0f0f0;\">\\r\\n<div style=\"float: left; width: 200px;  padding: 14px 0px 20px 0px; text-align: left; color: #999;z-index: 5;\">\\r\\n<small>Copyright &copy; 2000-2015,<br />\\r\\nRateBeer LLC. All rights<br />\\r\\nreserved.</small>\\r\\n</div>\\r\\n\\r\\n<div style=\"float: right; width: 200px; padding: 14px 0px 0px 0px; text-align: right;z-index: 5;\"><img src=\"/images/logos/footer999.png\" /></div>\\r\\n\\r\\n<table cellpadding=14 cellspacing=0 border=0 id=\"foota\">\\r\\n<tr><td valign=top style=\"border-right: 1px solid #f0f0f0; font-size: 12px; text-align: left;\">\\r\\n<big><strong style=\"color: #a7bbcc;\">about us</strong></big><br />\\r\\n<a href=\"/About.asp\">About RateBeer</a><br />\\r\\n<a href=\"/FAQ.asp\">FAQ</a><br />\\r\\n<a href=\"/Feedback.asp\">Contact/Feedback</a><br />\\r\\n<a href=\"/newbeers.asp\">New Beers</a><br />\\r\\n\\r\\n\\r\\n</td><td valign=top style=\"border-right: 1px solid #f0f0f0; font-size: 12px; text-align: left;\">\\r\\n<big><strong style=\"color: #a7bbcc;\">add</strong></big><br />\\r\\n<a href=\"/search.php\">Advanced Search</a><br />\\r\\n<a href=\"/AddBeer.asp\">Add A Beer</a> <br />\\r\\n<a href=\"/AddBrewer.asp\">Add A Brewer</a><br /> \\r\\n<a href=\"/Places/AddAPlace.asp\">Add A Place</a> <br />\\r\\n<a href=\"/events.asp\">Events</a><br />\\r\\n\\r\\n</td><td valign=top style=\"border-right: 1px solid #f0f0f0; font-size: 12px; text-align: left;\">\\r\\n<big><strong style=\"color: #a7bbcc;\">membership</strong></big><br />\\r\\n<a href=\"/login.asp\">Log In</a><br />\\r\\n<a href=\"/EditUser.asp\">Edit Personal Info</a><br />\\r\\n<a href=\"/AboutPremium_Join.asp\">Buy Premium Membership</a><br />\\r\\n<a href=\"/Messages.asp\">Your Messages</a><br />\\r\\n\\r\\n</td><td valign=top style=\"font-size: 12px; text-align: left;\">\\r\\n<big><strong style=\"color: #a7bbcc;\">the best</strong></big><br />\\r\\n<a href=\"/ratebeerbest/\">RateBeer Best</a><br />\\r\\n<a href=\"/Ratings/beerClub.asp\">100 Beer Club</a><br />\\r\\n<a href=\"/beer/top-50/\">The Top 50</a><br />\\r\\n\\r\\n</td>\\r\\n</tr>\\r\\n</table>\\r\\n\\r\\n<br />\\r\\n\\r\\n<div style=\"clear:both;\"></div>\\r\\n</div>\\r\\n</center>\\r\\n\\r\\n<script src=\"https://code.jquery.com/jquery-1.11.3.min.js\"></script>\\r\\n<script>\\r\\n  (function(i,s,o,g,r,a,m){i[\\'GoogleAnalyticsObject\\']=r;i[r]=i[r]||function(){\\r\\n  (i[r].q=i[r].q||[]).push(arguments)},i[r].l=1*new Date();a=s.createElement(o),\\r\\n  m=s.getElementsByTagName(o)[0];a.async=1;a.src=g;m.parentNode.insertBefore(a,m)\\r\\n  })(window,document,\\'script\\',\\'//www.google-analytics.com/analytics.js\\',\\'ga\\');\\r\\n\\r\\n  ga(\\'create\\', \\'UA-1881232-1\\', \\'ratebeer.com\\');\\r\\n  ga(\\'require\\', \\'displayfeatures\\');  \\r\\n  ga(\\'send\\', \\'pageview\\');\\r\\n</script>\\r\\n\\r\\n\\r\\n<!-- Footer ends -->\\r\\n</span>\\r\\n</body>\\r\\n</html>\\r\\n'"
      ]
     },
     "execution_count": 79,
     "metadata": {},
     "output_type": "execute_result"
    }
   ],
   "source": [
    "htmlwheat"
   ]
  },
  {
   "cell_type": "code",
   "execution_count": 93,
   "metadata": {
    "collapsed": false
   },
   "outputs": [],
   "source": [
    "def extract_style(html):\n",
    "    locate_style = html.find('Style:')\n",
    "    subhtml = html[locate_style:]\n",
    "    start = subhtml.find('\">')\n",
    "    end = subhtml.find('</a>')\n",
    "    style = subhtml[start+len('\">'):end]\n",
    "    style = style.replace('<br>','')\n",
    "    style = style.encode('ascii', 'ignore')\n",
    "    return style"
   ]
  },
  {
   "cell_type": "code",
   "execution_count": 94,
   "metadata": {
    "collapsed": false
   },
   "outputs": [],
   "source": [
    "def extract_name(html):\n",
    "    locate_name = html.find('TITLE>')\n",
    "    subhtml = html[locate_name:]\n",
    "    start = subhtml.find('<TITLE>')\n",
    "    end = subhtml.find('</TITLE>')\n",
    "    name = subhtml[start+len('<TITLE>'):end]\n",
    "    name = name.replace('<br>','')\n",
    "    name = name.encode('ascii', 'ignore')\n",
    "    return name"
   ]
  },
  {
   "cell_type": "code",
   "execution_count": 95,
   "metadata": {
    "collapsed": false
   },
   "outputs": [],
   "source": [
    "def extract_brewery(html):\n",
    "    locate_brewery = html.find('Brewed by')\n",
    "    subhtml = html[locate_brewery:]\n",
    "    start = subhtml.find('\">')\n",
    "    end = subhtml.find('</A>')\n",
    "    brewery = subhtml[start+len('\">'):end]\n",
    "    brewery = brewery.replace('<br>','')\n",
    "    brewery = brewery.encode('ascii', 'ignore')\n",
    "    return brewery"
   ]
  },
  {
   "cell_type": "code",
   "execution_count": 111,
   "metadata": {
    "collapsed": false
   },
   "outputs": [],
   "source": [
    "#Extract commerical description from website text\n",
    "def extract_descript(html):\n",
    "    locate_descript = html.find('COMMERCIAL DESCRIPTION')  \n",
    "    subhtml = html[locate_descript:]\n",
    "    start = subhtml.find('</small>')\n",
    "    end = subhtml.find('</div>')\n",
    "    descript = subhtml[start + len('</small>'): end]\n",
    "    descript = descript.replace('<br>','')\n",
    "    descript = descript.replace('<br>','')\n",
    "    descript = descript.encode('ascii', 'ignore')\n",
    "    return descript\n",
    "\n"
   ]
  },
  {
   "cell_type": "code",
   "execution_count": 109,
   "metadata": {
    "collapsed": false
   },
   "outputs": [],
   "source": [
    "#saves the descriptions of these types of beers\n",
    "wheat_descr = extract_descript(htmlwheat)\n",
    "wheat_name = extract_name(htmlwheat)\n",
    "wheat_style = extract_style(htmlwheat)\n",
    "wheat_brewery = extract_brewery(htmlwheat)\n",
    "wheat_web = html_wheat\n",
    "beerdb = {wheat_name:  (wheat_descr, wheat_brewery, wheat_style, wheat_web)}\n"
   ]
  },
  {
   "cell_type": "code",
   "execution_count": 115,
   "metadata": {
    "collapsed": false
   },
   "outputs": [
    {
     "data": {
      "text/plain": [
       "(u'Samuel Adams\\xae Summer Ale is an American wheat ale. This summer seasonal uses malted wheat, lemon zest and Grains of Paradise, a rare pepper from Africa first used as a brewing spice in the 13th century, to create a crisp taste, spicy flavor and medium body. The ale fermentation imparts a background tropical fruit note reminiscent of mangos and peaches.  All of these flavors come together to create a thirst quenching, clean finishing beer perfect for those warm summer days.',\n",
       " u'Boston Beer Company',\n",
       " u'Wheat Ale',\n",
       " 'http://www.ratebeer.com/beer/samuel-adams-summer-ale/171/')"
      ]
     },
     "execution_count": 115,
     "metadata": {},
     "output_type": "execute_result"
    }
   ],
   "source": [
    "beerdb[wheat_name]"
   ]
  },
  {
   "cell_type": "raw",
   "metadata": {},
   "source": []
  },
  {
   "cell_type": "code",
   "execution_count": null,
   "metadata": {
    "collapsed": true
   },
   "outputs": [],
   "source": []
  },
  {
   "cell_type": "code",
   "execution_count": 48,
   "metadata": {
    "collapsed": true
   },
   "outputs": [],
   "source": [
    "parser = HTMLParser()\n",
    "desc = parser.unescape(stout_descr)"
   ]
  },
  {
   "cell_type": "code",
   "execution_count": 51,
   "metadata": {
    "collapsed": true
   },
   "outputs": [],
   "source": [
    "a = {name[2] : desc}"
   ]
  },
  {
   "cell_type": "code",
   "execution_count": 52,
   "metadata": {
    "collapsed": false
   },
   "outputs": [],
   "source": [
    "with open('datatest.txt','w') as outfile:\n",
    "    json.dump(a, outfile)"
   ]
  },
  {
   "cell_type": "code",
   "execution_count": 54,
   "metadata": {
    "collapsed": false
   },
   "outputs": [],
   "source": [
    "def addtodict(name, desc, beerdic):\n",
    "    beerdic[name] = desc"
   ]
  },
  {
   "cell_type": "code",
   "execution_count": 60,
   "metadata": {
    "collapsed": true
   },
   "outputs": [],
   "source": []
  },
  {
   "cell_type": "code",
   "execution_count": 62,
   "metadata": {
    "collapsed": false
   },
   "outputs": [
    {
     "data": {
      "text/plain": [
       "{'beer22': u'Rogue\\x92s Shakespeare Stout is ebony in color, a rich creamy head and a mellow chocolate aftertaste. It is made from Northwest Harrington, Crystal, and Chocolate malts, roasted barley and rolled oats, along with Cascade hop.',\n",
       " 'rogue-shakespeare-oatmeal-stout': u'Rogue\\x92s Shakespeare Stout is ebony in color, a rich creamy head and a mellow chocolate aftertaste. It is made from Northwest Harrington, Crystal, and Chocolate malts, roasted barley and rolled oats, along with Cascade hop.',\n",
       " 'rogue-shakespeare-oatmeal-stout22': u'Rogue\\x92s Shakespeare Stout is ebony in color, a rich creamy head and a mellow chocolate aftertaste. It is made from Northwest Harrington, Crystal, and Chocolate malts, roasted barley and rolled oats, along with Cascade hop.'}"
      ]
     },
     "execution_count": 62,
     "metadata": {},
     "output_type": "execute_result"
    }
   ],
   "source": []
  },
  {
   "cell_type": "code",
   "execution_count": null,
   "metadata": {
    "collapsed": false
   },
   "outputs": [],
   "source": []
  },
  {
   "cell_type": "code",
   "execution_count": null,
   "metadata": {
    "collapsed": true
   },
   "outputs": [],
   "source": []
  }
 ],
 "metadata": {
  "kernelspec": {
   "display_name": "Python 2",
   "language": "python",
   "name": "python2"
  },
  "language_info": {
   "codemirror_mode": {
    "name": "ipython",
    "version": 2
   },
   "file_extension": ".py",
   "mimetype": "text/x-python",
   "name": "python",
   "nbconvert_exporter": "python",
   "pygments_lexer": "ipython2",
   "version": "2.7.10"
  }
 },
 "nbformat": 4,
 "nbformat_minor": 0
}
