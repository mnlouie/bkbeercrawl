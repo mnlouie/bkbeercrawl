{
 "cells": [
  {
   "cell_type": "code",
   "execution_count": 1,
   "metadata": {
    "collapsed": true
   },
   "outputs": [],
   "source": [
    "import requests \n",
    "import json"
   ]
  },
  {
   "cell_type": "code",
   "execution_count": 2,
   "metadata": {
    "collapsed": true
   },
   "outputs": [],
   "source": [
    "apiurl = \"https://api.untappd.com/v4\"\n",
    "clientId = \"D1D82F70BCEE374DF5C1DAAC3B215242B070A0A0\"\n",
    "clientSecret = \"CBD9364C819A40E21AE89BC2B15930CDE6DC7D3B\" "
   ]
  },
  {
   "cell_type": "code",
   "execution_count": 4,
   "metadata": {
    "collapsed": false
   },
   "outputs": [],
   "source": [
    "credentials = {'client_id':clientId, 'client_secret':clientSecret}\n",
    "payload = {'lat': 40.6963, 'lng': -73.9800}\n",
    "payload.update(credentials)\n",
    "#adds payload, the credential information\n",
    "\n",
    "pubfeed = \"/thepub/local\"\n"
   ]
  },
  {
   "cell_type": "code",
   "execution_count": null,
   "metadata": {
    "collapsed": true
   },
   "outputs": [],
   "source": [
    "#r = requests.get(apiurl+pubfeed, params=payload)"
   ]
  },
  {
   "cell_type": "code",
   "execution_count": null,
   "metadata": {
    "collapsed": true
   },
   "outputs": [],
   "source": [
    "ratelimit_remaining = r.headers['x-ratelimit-remaining']\n",
    "output= json.loads(r.content)\n",
    "print output.keys()\n",
    "resp = output['response']\n",
    "checkins = resp['checkins']['items']\n",
    "ncheckins = resp['checkins']['count']\n",
    "venue = checkins[0]['venue']\n",
    "print venue.keys()\n",
    "print venue\n",
    "venueid = venue['venue_id']"
   ]
  }
 ],
 "metadata": {
  "kernelspec": {
   "display_name": "Python 2",
   "language": "python",
   "name": "python2"
  },
  "language_info": {
   "codemirror_mode": {
    "name": "ipython",
    "version": 2
   },
   "file_extension": ".py",
   "mimetype": "text/x-python",
   "name": "python",
   "nbconvert_exporter": "python",
   "pygments_lexer": "ipython2",
   "version": "2.7.10"
  }
 },
 "nbformat": 4,
 "nbformat_minor": 0
}
