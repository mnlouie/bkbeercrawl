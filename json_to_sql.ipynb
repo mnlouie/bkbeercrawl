{
 "cells": [
  {
   "cell_type": "code",
   "execution_count": 8,
   "metadata": {
    "collapsed": true
   },
   "outputs": [],
   "source": [
    "import MySQLdb\n",
    "import json"
   ]
  },
  {
   "cell_type": "code",
   "execution_count": 2,
   "metadata": {
    "collapsed": true
   },
   "outputs": [],
   "source": [
    "#test variables for database access\n",
    "HOST = 'localhost'\n",
    "USER = 'root'\n",
    "PASSWD = ''\n",
    "DATABASE = 'beer_db'"
   ]
  },
  {
   "cell_type": "code",
   "execution_count": 14,
   "metadata": {
    "collapsed": false
   },
   "outputs": [],
   "source": [
    "# beer DB data to insert into new table\n",
    "data = []\n",
    "with open('masterbeer.json') as f:\n",
    "    for line in f:\n",
    "        data.append(json.loads(line))\n",
    "\n"
   ]
  },
  {
   "cell_type": "code",
   "execution_count": 77,
   "metadata": {
    "collapsed": false
   },
   "outputs": [],
   "source": [
    "db_connect = MySQLdb.connect(\n",
    "    host = HOST,\n",
    "    user = USER,\n",
    "    passwd = PASSWD)"
   ]
  },
  {
   "cell_type": "code",
   "execution_count": 78,
   "metadata": {
    "collapsed": false
   },
   "outputs": [],
   "source": [
    "cursor = db_connect.cursor()"
   ]
  },
  {
   "cell_type": "code",
   "execution_count": 88,
   "metadata": {
    "collapsed": false
   },
   "outputs": [
    {
     "data": {
      "text/plain": [
       "1L"
      ]
     },
     "execution_count": 88,
     "metadata": {},
     "output_type": "execute_result"
    }
   ],
   "source": [
    "cursor.execute('create database full_beer_db')\n",
    "#cursor.execute('CREATE DATABASE tmp_beer')\n",
    "#creates the database"
   ]
  },
  {
   "cell_type": "code",
   "execution_count": 59,
   "metadata": {
    "collapsed": false
   },
   "outputs": [
    {
     "data": {
      "text/plain": [
       "10L"
      ]
     },
     "execution_count": 59,
     "metadata": {},
     "output_type": "execute_result"
    }
   ],
   "source": [
    "cursor.execute('SHOW DATABASE')"
   ]
  },
  {
   "cell_type": "code",
   "execution_count": 89,
   "metadata": {
    "collapsed": false,
    "scrolled": true
   },
   "outputs": [
    {
     "data": {
      "text/plain": [
       "0L"
      ]
     },
     "execution_count": 89,
     "metadata": {},
     "output_type": "execute_result"
    }
   ],
   "source": [
    "cursor.execute('use full_beer_db')\n",
    "#cursor.execute('USE tmp_beer')\n",
    "cursor.execute(\"\"\"\n",
    "CREATE TABLE beer_info(\n",
    "    id INTEGER NOT NULL AUTO_INCREMENT,\n",
    "    name TEXT NOT NULL,\n",
    "    description TEXT,\n",
    "    brew TEXT,\n",
    "    style TEXT,\n",
    "    link TEXT,\n",
    "    PRIMARY KEY (id)\n",
    "    )\n",
    "    \"\"\")\n",
    "\n"
   ]
  },
  {
   "cell_type": "code",
   "execution_count": 98,
   "metadata": {
    "collapsed": false
   },
   "outputs": [],
   "source": [
    "add_beer = (\"INSERT INTO beer_info \"\n",
    "           \" (name, description, brew, style, link)\"\n",
    "           \" VALUES (%s, %s, %s, %s, %s)\")\n",
    "#beer_data = ('Test Ale', 'GREAT BEER', 'insight brewery', 'ale', 'website')"
   ]
  },
  {
   "cell_type": "code",
   "execution_count": 99,
   "metadata": {
    "collapsed": false
   },
   "outputs": [],
   "source": [
    "for li in data:\n",
    "    for da in li:\n",
    "        beer_data = (da, li[da][0],li[da][1],li[da][2],li[da][3])\n",
    "        cursor.execute(add_beer, beer_data)\n"
   ]
  },
  {
   "cell_type": "code",
   "execution_count": 100,
   "metadata": {
    "collapsed": false
   },
   "outputs": [],
   "source": [
    "db_connect.commit()"
   ]
  },
  {
   "cell_type": "code",
   "execution_count": 102,
   "metadata": {
    "collapsed": true
   },
   "outputs": [],
   "source": [
    "cursor.close()\n",
    "db_connect.close()"
   ]
  },
  {
   "cell_type": "code",
   "execution_count": null,
   "metadata": {
    "collapsed": true
   },
   "outputs": [],
   "source": [
    "#pull out features"
   ]
  }
 ],
 "metadata": {
  "kernelspec": {
   "display_name": "Python 2",
   "language": "python",
   "name": "python2"
  },
  "language_info": {
   "codemirror_mode": {
    "name": "ipython",
    "version": 2
   },
   "file_extension": ".py",
   "mimetype": "text/x-python",
   "name": "python",
   "nbconvert_exporter": "python",
   "pygments_lexer": "ipython2",
   "version": "2.7.10"
  }
 },
 "nbformat": 4,
 "nbformat_minor": 0
}
